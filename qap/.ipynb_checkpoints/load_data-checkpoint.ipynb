{
 "cells": [
  {
   "cell_type": "code",
   "execution_count": 2,
   "id": "518c10c2-0fc8-4a05-87f7-52dcf4ba2295",
   "metadata": {},
   "outputs": [],
   "source": [
    "import numpy as np\n",
    "import os\n",
    "\n",
    "def parse_qaplib_file(filepath):\n",
    "    with open(filepath, 'r') as f:\n",
    "        content = f.read()\n",
    "    numbers = list(map(int, content.split()))\n",
    "    n = numbers[0]\n",
    "    A_flat = numbers[1:n*n+1]\n",
    "    B_flat = numbers[n*n+1:]\n",
    "    \n",
    "    A = np.array(A_flat).reshape((n, n))\n",
    "    B = np.array(B_flat).reshape((n, n))\n",
    "    \n",
    "    return n, A, B\n"
   ]
  },
  {
   "cell_type": "code",
   "execution_count": 3,
   "id": "24ec00d4-c84f-485f-95d5-b19bb6e0e5da",
   "metadata": {},
   "outputs": [],
   "source": [
    "all_files = os.listdir(\"prob/\")"
   ]
  },
  {
   "cell_type": "code",
   "execution_count": 6,
   "id": "45a21e6f-57d7-4562-bbb5-46a521764723",
   "metadata": {},
   "outputs": [],
   "source": [
    "dataset = []\n",
    "\n",
    "for fp in all_files:\n",
    "    n, A, B = parse_qaplib_file(f\"prob/{fp}\")\n",
    "    dataset.append((n, A, B))"
   ]
  },
  {
   "cell_type": "code",
   "execution_count": 7,
   "id": "b5508031-5288-490a-8176-b582218cf098",
   "metadata": {},
   "outputs": [
    {
     "data": {
      "text/plain": [
       "(81,\n",
       " array([[ 0,  1,  2, ..., 14, 15, 16],\n",
       "        [ 1,  0,  1, ..., 13, 14, 15],\n",
       "        [ 2,  1,  0, ..., 12, 13, 14],\n",
       "        ...,\n",
       "        [14, 13, 12, ...,  0,  1,  2],\n",
       "        [15, 14, 13, ...,  1,  0,  1],\n",
       "        [16, 15, 14, ...,  2,  1,  0]]),\n",
       " array([[0, 0, 5, ..., 1, 1, 5],\n",
       "        [0, 0, 5, ..., 5, 5, 0],\n",
       "        [5, 5, 0, ..., 3, 2, 1],\n",
       "        ...,\n",
       "        [1, 5, 3, ..., 0, 5, 0],\n",
       "        [1, 5, 2, ..., 5, 0, 5],\n",
       "        [5, 0, 1, ..., 0, 5, 0]]))"
      ]
     },
     "execution_count": 7,
     "metadata": {},
     "output_type": "execute_result"
    }
   ],
   "source": [
    "dataset[0]"
   ]
  },
  {
   "cell_type": "code",
   "execution_count": null,
   "id": "e6831e47-ec89-4a88-8e1f-798434927970",
   "metadata": {},
   "outputs": [],
   "source": []
  }
 ],
 "metadata": {
  "kernelspec": {
   "display_name": "Python 3 (ipykernel)",
   "language": "python",
   "name": "python3"
  },
  "language_info": {
   "codemirror_mode": {
    "name": "ipython",
    "version": 3
   },
   "file_extension": ".py",
   "mimetype": "text/x-python",
   "name": "python",
   "nbconvert_exporter": "python",
   "pygments_lexer": "ipython3",
   "version": "3.8.8"
  }
 },
 "nbformat": 4,
 "nbformat_minor": 5
}
